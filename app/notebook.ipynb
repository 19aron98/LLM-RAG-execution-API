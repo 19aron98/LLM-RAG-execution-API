{
 "cells": [
  {
   "cell_type": "code",
   "execution_count": 1,
   "metadata": {},
   "outputs": [],
   "source": [
    "# Application control functions\n",
    "\n",
    "import os\n",
    "import webbrowser\n",
    "import subprocess\n",
    "\n",
    "def open_chrome():\n",
    "    \"\"\"\n",
    "    Opens Google Chrome browser.\n",
    "    \n",
    "    Usage: Launch Chrome, Open Chrome browser, Start Chrome\n",
    "    \"\"\"\n",
    "    webbrowser.open(\"https://www.google.com\")\n",
    "\n",
    "def open_firefox():\n",
    "    \"\"\"\n",
    "    Opens Firefox browser.\n",
    "    \n",
    "    Usage: Launch Firefox, Open Firefox browser, Start Firefox\n",
    "    \"\"\"\n",
    "    webbrowser.open(\"https://www.mozilla.org\")\n",
    "\n",
    "def open_calculator():\n",
    "    \"\"\"\n",
    "    Opens the calculator application.\n",
    "    \n",
    "    Usage: Open calculator, Launch calc, Start calculator app\n",
    "    \"\"\"\n",
    "    if os.name == 'nt':  # Windows\n",
    "        os.system(\"calc\")\n",
    "    elif os.name == 'posix':  # macOS or Linux\n",
    "        if os.uname().sysname == 'Darwin':  # macOS\n",
    "            os.system(\"open -a Calculator\")\n",
    "        else:  # Linux\n",
    "            os.system(\"gnome-calculator\")\n",
    "\n",
    "def open_notepad():\n",
    "    \"\"\"\n",
    "    Opens the notepad/text editor application.\n",
    "    \n",
    "    Usage: Open notepad, Launch text editor, Start notepad\n",
    "    \"\"\"\n",
    "    if os.name == 'nt':  # Windows\n",
    "        os.system(\"notepad\")\n",
    "    elif os.name == 'posix':  # macOS or Linux\n",
    "        if os.uname().sysname == 'Darwin':  # macOS\n",
    "            os.system(\"open -a TextEdit\")\n",
    "        else:  # Linux\n",
    "            os.system(\"gedit\")\n",
    "\n",
    "def open_file_explorer():\n",
    "    \"\"\"\n",
    "    Opens the file explorer/finder.\n",
    "    \n",
    "    Usage: Open file explorer, Launch finder, Open file manager\n",
    "    \"\"\"\n",
    "    if os.name == 'nt':  # Windows\n",
    "        os.system(\"explorer\")\n",
    "    elif os.name == 'posix':  # macOS or Linux\n",
    "        if os.uname().sysname == 'Darwin':  # macOS\n",
    "            os.system(\"open .\")\n",
    "        else:  # Linux\n",
    "            os.system(\"xdg-open .\")"
   ]
  },
  {
   "cell_type": "code",
   "execution_count": 2,
   "metadata": {},
   "outputs": [],
   "source": [
    "import numpy as np\n",
    "from sentence_transformers import SentenceTransformer\n",
    "\n",
    "class EmbeddingModel:\n",
    "    def __init__(self, model=\"Alibaba-NLP/gte-large-en-v1.5\"):\n",
    "        \"\"\"\n",
    "        Initializes the embedding model.\n",
    "        \n",
    "        Args:\n",
    "            model_name (str): The name of the Hugging Face Embedding model to use\n",
    "        \"\"\"\n",
    "        self.embeddings = SentenceTransformer(model, trust_remote_code=True)\n",
    "    \n",
    "    def create_embedding(self, text: str):\n",
    "        \"\"\"\n",
    "        Creates an embedding for the given text.\n",
    "        \n",
    "        Args:\n",
    "            text (str): The text to create an embedding for\n",
    "            \n",
    "        Returns:\n",
    "            numpy.ndarray: The embedding vector\n",
    "        \"\"\"\n",
    "        return self.embeddings.encode(text)"
   ]
  },
  {
   "cell_type": "code",
   "execution_count": 3,
   "metadata": {},
   "outputs": [],
   "source": [
    "import sys\n",
    "import os\n",
    "\n",
    "project_root = r\"C:\\Users\\Swapnil Singh\\Desktop\\LLM+RAG API\\function_execution_api\"\n",
    "if project_root not in sys.path:\n",
    "    sys.path.append(project_root)"
   ]
  },
  {
   "cell_type": "code",
   "execution_count": 4,
   "metadata": {},
   "outputs": [],
   "source": [
    "import os\n",
    "import inspect\n",
    "import importlib\n",
    "\n",
    "def collect_function_metadata():\n",
    "    folder_path = os.path.join(project_root, \"app\", \"function_registry\")\n",
    "    all_metadata = []\n",
    "\n",
    "    for filename in os.listdir(folder_path):\n",
    "        if filename.endswith(\".py\") and filename != \"__init__.py\":\n",
    "            module_name = filename[:-3]  # Remove '.py' extension\n",
    "            module_path = os.path.join(folder_path, filename)\n",
    "\n",
    "            # Load module dynamically\n",
    "            spec = importlib.util.spec_from_file_location(module_name, module_path)\n",
    "            module = importlib.util.module_from_spec(spec)\n",
    "            spec.loader.exec_module(module)\n",
    "\n",
    "            for name, obj in inspect.getmembers(module, inspect.isfunction):\n",
    "                docstring = inspect.getdoc(obj) or \"No docstring available\"\n",
    "\n",
    "                all_metadata.append({\n",
    "                    \"module\": module_name,\n",
    "                    \"function_name\": name,\n",
    "                    \"description\": docstring,\n",
    "                })\n",
    "\n",
    "    return all_metadata"
   ]
  },
  {
   "cell_type": "code",
   "execution_count": 5,
   "metadata": {
    "scrolled": true
   },
   "outputs": [
    {
     "data": {
      "text/plain": [
       "[{'module': 'application_functions',\n",
       "  'function_name': 'open_calculator',\n",
       "  'description': 'Opens the calculator application.\\n\\nUsage: Open calculator, Launch calc, Start calculator app'},\n",
       " {'module': 'application_functions',\n",
       "  'function_name': 'open_chrome',\n",
       "  'description': 'Opens Google Chrome browser.\\n\\nUsage: Launch Chrome, Open Chrome browser, Start Chrome'},\n",
       " {'module': 'application_functions',\n",
       "  'function_name': 'open_file_explorer',\n",
       "  'description': 'Opens the file explorer/finder.\\n\\nUsage: Open file explorer, Launch finder, Open file manager'},\n",
       " {'module': 'application_functions',\n",
       "  'function_name': 'open_firefox',\n",
       "  'description': 'Opens Firefox browser.\\n\\nUsage: Launch Firefox, Open Firefox browser, Start Firefox'},\n",
       " {'module': 'application_functions',\n",
       "  'function_name': 'open_notepad',\n",
       "  'description': 'Opens the notepad/text editor application.\\n\\nUsage: Open notepad, Launch text editor, Start notepad'},\n",
       " {'module': 'system_functions',\n",
       "  'function_name': 'execute_shell_command',\n",
       "  'description': 'Executes a shell command and returns the output.\\n\\nUsage: Run command, Execute shell, Run terminal command\\n\\nArgs:\\n    command (str): The shell command to execute'},\n",
       " {'module': 'system_functions',\n",
       "  'function_name': 'get_cpu_usage',\n",
       "  'description': 'Retrieves current CPU usage percentage.\\n\\nUsage: Get CPU usage, Check processor load, Monitor CPU'},\n",
       " {'module': 'system_functions',\n",
       "  'function_name': 'get_disk_usage',\n",
       "  'description': 'Retrieves disk usage information.\\n\\nUsage: Get disk space, Check storage, Monitor disk usage'},\n",
       " {'module': 'system_functions',\n",
       "  'function_name': 'get_memory_usage',\n",
       "  'description': 'Retrieves current RAM usage information.\\n\\nUsage: Get RAM usage, Check memory usage, Monitor RAM'},\n",
       " {'module': 'system_functions',\n",
       "  'function_name': 'get_system_info',\n",
       "  'description': 'Retrieves general system information.\\n\\nUsage: Get system details, Check OS info, Get computer info'},\n",
       " {'module': 'utility_functions',\n",
       "  'function_name': 'create_reminder',\n",
       "  'description': 'Creates a reminder with a message and optional time.\\n\\nUsage: Set reminder, Create alert, Remind me\\n\\nArgs:\\n    message (str): The reminder message\\n    time (str, optional): Time for the reminder (format: \"YYYY-MM-DD HH:MM:SS\")'},\n",
       " {'module': 'utility_functions',\n",
       "  'function_name': 'get_current_time',\n",
       "  'description': 'Returns the current date and time.\\n\\nUsage: What time is it, Get current date, Check current time'},\n",
       " {'module': 'utility_functions',\n",
       "  'function_name': 'get_weather',\n",
       "  'description': 'Gets the current weather for a specified city using a API.\\n\\nUsage: Check weather, Get temperature, Weather forecast\\n\\nArgs:\\n    city (str): The name of the city'}]"
      ]
     },
     "execution_count": 5,
     "metadata": {},
     "output_type": "execute_result"
    }
   ],
   "source": [
    "metadata = collect_function_metadata()\n",
    "metadata"
   ]
  },
  {
   "cell_type": "code",
   "execution_count": 5,
   "metadata": {},
   "outputs": [],
   "source": [
    "from pymilvus import connections, db, utility, FieldSchema, DataType, Collection, CollectionSchema"
   ]
  },
  {
   "cell_type": "code",
   "execution_count": 7,
   "metadata": {},
   "outputs": [
    {
     "name": "stdout",
     "output_type": "stream",
     "text": [
      "Connection to Milvus is successful!\n"
     ]
    }
   ],
   "source": [
    "conn = connections.connect(\"default\", host=\"localhost\", port=\"19530\")\n",
    "\n",
    "try:\n",
    "    # Checking if the \"default\" connection is active\n",
    "    if connections.has_connection(\"default\"):\n",
    "        print(\"Connection to Milvus is successful!\")\n",
    "\n",
    "except Exception as e:\n",
    "    print(\"Error while checking Milvus connection:\", e)"
   ]
  },
  {
   "cell_type": "code",
   "execution_count": 8,
   "metadata": {},
   "outputs": [
    {
     "data": {
      "text/plain": [
       "['default', 'metadb']"
      ]
     },
     "execution_count": 8,
     "metadata": {},
     "output_type": "execute_result"
    }
   ],
   "source": [
    "db.list_database()"
   ]
  },
  {
   "cell_type": "code",
   "execution_count": 9,
   "metadata": {},
   "outputs": [],
   "source": [
    "db.using_database(db_name=\"metadb\")"
   ]
  },
  {
   "cell_type": "code",
   "execution_count": 10,
   "metadata": {},
   "outputs": [
    {
     "data": {
      "text/plain": [
       "['functions']"
      ]
     },
     "execution_count": 10,
     "metadata": {},
     "output_type": "execute_result"
    }
   ],
   "source": [
    "utility.list_collections()"
   ]
  },
  {
   "cell_type": "code",
   "execution_count": 16,
   "metadata": {},
   "outputs": [],
   "source": [
    "# SChema\n",
    "id_field = FieldSchema(name = \"id\", dtype=DataType.INT64,is_primary=True, auto_id = True)\n",
    "Module_field = FieldSchema(name = \"Module\", dtype=DataType.VARCHAR, max_length = 255)\n",
    "funcName_field = FieldSchema(name = \"Function_Name\", dtype=DataType.VARCHAR, max_length = 255)\n",
    "description_field = FieldSchema(name = \"Metadata\", dtype=DataType.FLOAT_VECTOR, dim=1024)\n",
    "sourceCode_field = FieldSchema(name = \"Source_Code\", dtype=DataType.VARCHAR, max_length = 2048)\n",
    "\n",
    "schema = CollectionSchema(fields=[id_field, Module_field, funcName_field, description_field, sourceCode_field])"
   ]
  },
  {
   "cell_type": "code",
   "execution_count": 10,
   "metadata": {},
   "outputs": [],
   "source": [
    "collection = Collection(name='functions')"
   ]
  },
  {
   "cell_type": "code",
   "execution_count": 13,
   "metadata": {},
   "outputs": [
    {
     "data": {
      "text/plain": [
       "['functions']"
      ]
     },
     "execution_count": 13,
     "metadata": {},
     "output_type": "execute_result"
    }
   ],
   "source": [
    "utility.list_collections()"
   ]
  },
  {
   "cell_type": "code",
   "execution_count": 19,
   "metadata": {},
   "outputs": [],
   "source": [
    "index_params = {\n",
    "    \"index_type\": \"HNSW\",\n",
    "    \"metric_type\": \"L2\",\n",
    "    \"params\": {\n",
    "        \"M\": 20,\n",
    "        \"efConstruction\": 300\n",
    "    }\n",
    "}"
   ]
  },
  {
   "cell_type": "code",
   "execution_count": 20,
   "metadata": {},
   "outputs": [
    {
     "data": {
      "text/plain": [
       "Status(code=0, message=)"
      ]
     },
     "execution_count": 20,
     "metadata": {},
     "output_type": "execute_result"
    }
   ],
   "source": [
    "collection.create_index(field_name=\"Metadata\", index_params=index_params)"
   ]
  },
  {
   "cell_type": "code",
   "execution_count": 11,
   "metadata": {},
   "outputs": [],
   "source": [
    "collection.load()"
   ]
  },
  {
   "cell_type": "code",
   "execution_count": 40,
   "metadata": {},
   "outputs": [
    {
     "name": "stdout",
     "output_type": "stream",
     "text": [
      "0 : Opens the calculator application.\n",
      "\n",
      "Usage: Open calculator, Launch calc, Start calculator app : <class 'str'>\n",
      "1 : Opens Google Chrome browser.\n",
      "\n",
      "Usage: Launch Chrome, Open Chrome browser, Start Chrome : <class 'str'>\n",
      "2 : Opens the file explorer/finder.\n",
      "\n",
      "Usage: Open file explorer, Launch finder, Open file manager : <class 'str'>\n",
      "3 : Opens Firefox browser.\n",
      "\n",
      "Usage: Launch Firefox, Open Firefox browser, Start Firefox : <class 'str'>\n",
      "4 : Opens the notepad/text editor application.\n",
      "\n",
      "Usage: Open notepad, Launch text editor, Start notepad : <class 'str'>\n",
      "5 : Executes a shell command and returns the output.\n",
      "\n",
      "Usage: Run command, Execute shell, Run terminal command\n",
      "\n",
      "Args:\n",
      "    command (str): The shell command to execute : <class 'str'>\n",
      "6 : Retrieves current CPU usage percentage.\n",
      "\n",
      "Usage: Get CPU usage, Check processor load, Monitor CPU : <class 'str'>\n",
      "7 : Retrieves disk usage information.\n",
      "\n",
      "Usage: Get disk space, Check storage, Monitor disk usage : <class 'str'>\n",
      "8 : Retrieves current RAM usage information.\n",
      "\n",
      "Usage: Get RAM usage, Check memory usage, Monitor RAM : <class 'str'>\n",
      "9 : Retrieves general system information.\n",
      "\n",
      "Usage: Get system details, Check OS info, Get computer info : <class 'str'>\n",
      "10 : Creates a reminder with a message and optional time.\n",
      "\n",
      "Usage: Set reminder, Create alert, Remind me\n",
      "\n",
      "Args:\n",
      "    message (str): The reminder message\n",
      "    time (str, optional): Time for the reminder (format: \"YYYY-MM-DD HH:MM:SS\") : <class 'str'>\n",
      "11 : Returns the current date and time.\n",
      "\n",
      "Usage: What time is it, Get current date, Check current time : <class 'str'>\n",
      "12 : Gets the current weather for a specified city using a API.\n",
      "\n",
      "Usage: Check weather, Get temperature, Weather forecast\n",
      "\n",
      "Args:\n",
      "    city (str): The name of the city : <class 'str'>\n"
     ]
    }
   ],
   "source": [
    "# Data Ingestion\n",
    "i = 0\n",
    "for data in metadata:\n",
    "    print(f\"{i} : {data['description']} : {type(data['description'])}\")\n",
    "    i = i + 1"
   ]
  },
  {
   "cell_type": "code",
   "execution_count": 24,
   "metadata": {},
   "outputs": [
    {
     "data": {
      "text/plain": [
       "['application_functions',\n",
       " 'application_functions',\n",
       " 'application_functions',\n",
       " 'application_functions',\n",
       " 'application_functions',\n",
       " 'system_functions',\n",
       " 'system_functions',\n",
       " 'system_functions',\n",
       " 'system_functions',\n",
       " 'system_functions',\n",
       " 'utility_functions',\n",
       " 'utility_functions',\n",
       " 'utility_functions']"
      ]
     },
     "execution_count": 24,
     "metadata": {},
     "output_type": "execute_result"
    }
   ],
   "source": [
    "module = [data['module'] for data in metadata]\n",
    "module"
   ]
  },
  {
   "cell_type": "code",
   "execution_count": 25,
   "metadata": {},
   "outputs": [],
   "source": [
    "function_name = [data['function_name'] for data in metadata]\n",
    "source_code = [data['source_code'] for data in metadata]"
   ]
  },
  {
   "cell_type": "code",
   "execution_count": 12,
   "metadata": {},
   "outputs": [
    {
     "data": {
      "application/vnd.jupyter.widget-view+json": {
       "model_id": "c43ed67970ca45e88d31df610d1d338e",
       "version_major": 2,
       "version_minor": 0
      },
      "text/plain": [
       "modules.json:   0%|          | 0.00/229 [00:00<?, ?B/s]"
      ]
     },
     "metadata": {},
     "output_type": "display_data"
    },
    {
     "name": "stderr",
     "output_type": "stream",
     "text": [
      "C:\\Users\\Swapnil Singh\\anaconda3\\Lib\\site-packages\\huggingface_hub\\file_download.py:144: UserWarning: `huggingface_hub` cache-system uses symlinks by default to efficiently store duplicated files but your machine does not support them in C:\\Users\\Swapnil Singh\\.cache\\huggingface\\hub\\models--Alibaba-NLP--gte-large-en-v1.5. Caching files will still work but in a degraded version that might require more space on your disk. This warning can be disabled by setting the `HF_HUB_DISABLE_SYMLINKS_WARNING` environment variable. For more details, see https://huggingface.co/docs/huggingface_hub/how-to-cache#limitations.\n",
      "To support symlinks on Windows, you either need to activate Developer Mode or to run Python as an administrator. In order to activate developer mode, see this article: https://docs.microsoft.com/en-us/windows/apps/get-started/enable-your-device-for-development\n",
      "  warnings.warn(message)\n"
     ]
    },
    {
     "data": {
      "application/vnd.jupyter.widget-view+json": {
       "model_id": "1c283d777a3d4eecbadab59291bb236c",
       "version_major": 2,
       "version_minor": 0
      },
      "text/plain": [
       "README.md:   0%|          | 0.00/71.8k [00:00<?, ?B/s]"
      ]
     },
     "metadata": {},
     "output_type": "display_data"
    },
    {
     "data": {
      "application/vnd.jupyter.widget-view+json": {
       "model_id": "2632827f834941a7a377502e1a4f832c",
       "version_major": 2,
       "version_minor": 0
      },
      "text/plain": [
       "sentence_bert_config.json:   0%|          | 0.00/54.0 [00:00<?, ?B/s]"
      ]
     },
     "metadata": {},
     "output_type": "display_data"
    },
    {
     "data": {
      "application/vnd.jupyter.widget-view+json": {
       "model_id": "31e3f20e61c94ac48ac2f3bc064555e5",
       "version_major": 2,
       "version_minor": 0
      },
      "text/plain": [
       "config.json:   0%|          | 0.00/1.35k [00:00<?, ?B/s]"
      ]
     },
     "metadata": {},
     "output_type": "display_data"
    },
    {
     "data": {
      "application/vnd.jupyter.widget-view+json": {
       "model_id": "533d9740596a42d2b657a2803b91b8e2",
       "version_major": 2,
       "version_minor": 0
      },
      "text/plain": [
       "configuration.py:   0%|          | 0.00/7.13k [00:00<?, ?B/s]"
      ]
     },
     "metadata": {},
     "output_type": "display_data"
    },
    {
     "name": "stderr",
     "output_type": "stream",
     "text": [
      "C:\\Users\\Swapnil Singh\\anaconda3\\Lib\\site-packages\\huggingface_hub\\file_download.py:144: UserWarning: `huggingface_hub` cache-system uses symlinks by default to efficiently store duplicated files but your machine does not support them in C:\\Users\\Swapnil Singh\\.cache\\huggingface\\hub\\models--Alibaba-NLP--new-impl. Caching files will still work but in a degraded version that might require more space on your disk. This warning can be disabled by setting the `HF_HUB_DISABLE_SYMLINKS_WARNING` environment variable. For more details, see https://huggingface.co/docs/huggingface_hub/how-to-cache#limitations.\n",
      "To support symlinks on Windows, you either need to activate Developer Mode or to run Python as an administrator. In order to activate developer mode, see this article: https://docs.microsoft.com/en-us/windows/apps/get-started/enable-your-device-for-development\n",
      "  warnings.warn(message)\n",
      "A new version of the following files was downloaded from https://huggingface.co/Alibaba-NLP/new-impl:\n",
      "- configuration.py\n",
      ". Make sure to double-check they do not contain any added malicious code. To avoid downloading new versions of the code file, you can pin a revision.\n"
     ]
    },
    {
     "data": {
      "application/vnd.jupyter.widget-view+json": {
       "model_id": "b8c284f9e681408db3d531b7471d6b3f",
       "version_major": 2,
       "version_minor": 0
      },
      "text/plain": [
       "modeling.py:   0%|          | 0.00/59.0k [00:00<?, ?B/s]"
      ]
     },
     "metadata": {},
     "output_type": "display_data"
    },
    {
     "name": "stderr",
     "output_type": "stream",
     "text": [
      "A new version of the following files was downloaded from https://huggingface.co/Alibaba-NLP/new-impl:\n",
      "- modeling.py\n",
      ". Make sure to double-check they do not contain any added malicious code. To avoid downloading new versions of the code file, you can pin a revision.\n"
     ]
    },
    {
     "data": {
      "application/vnd.jupyter.widget-view+json": {
       "model_id": "19f71753de08406ebebb4a60f2639971",
       "version_major": 2,
       "version_minor": 0
      },
      "text/plain": [
       "model.safetensors:   0%|          | 0.00/1.74G [00:00<?, ?B/s]"
      ]
     },
     "metadata": {},
     "output_type": "display_data"
    },
    {
     "data": {
      "application/vnd.jupyter.widget-view+json": {
       "model_id": "9942024711b948419acac85da5d64efa",
       "version_major": 2,
       "version_minor": 0
      },
      "text/plain": [
       "tokenizer_config.json:   0%|          | 0.00/1.38k [00:00<?, ?B/s]"
      ]
     },
     "metadata": {},
     "output_type": "display_data"
    },
    {
     "data": {
      "application/vnd.jupyter.widget-view+json": {
       "model_id": "c863bf019e8e4f9ca5f15db0772e1d32",
       "version_major": 2,
       "version_minor": 0
      },
      "text/plain": [
       "vocab.txt:   0%|          | 0.00/232k [00:00<?, ?B/s]"
      ]
     },
     "metadata": {},
     "output_type": "display_data"
    },
    {
     "data": {
      "application/vnd.jupyter.widget-view+json": {
       "model_id": "4ee75b5f74204754a3c96223a7f6391b",
       "version_major": 2,
       "version_minor": 0
      },
      "text/plain": [
       "tokenizer.json:   0%|          | 0.00/712k [00:00<?, ?B/s]"
      ]
     },
     "metadata": {},
     "output_type": "display_data"
    },
    {
     "data": {
      "application/vnd.jupyter.widget-view+json": {
       "model_id": "1be4165c2f174a5d8d576065084f31ea",
       "version_major": 2,
       "version_minor": 0
      },
      "text/plain": [
       "special_tokens_map.json:   0%|          | 0.00/695 [00:00<?, ?B/s]"
      ]
     },
     "metadata": {},
     "output_type": "display_data"
    },
    {
     "data": {
      "application/vnd.jupyter.widget-view+json": {
       "model_id": "5a6d84298094446c900fa6a780fa9c86",
       "version_major": 2,
       "version_minor": 0
      },
      "text/plain": [
       "config.json:   0%|          | 0.00/297 [00:00<?, ?B/s]"
      ]
     },
     "metadata": {},
     "output_type": "display_data"
    }
   ],
   "source": [
    "embedding = EmbeddingModel()"
   ]
  },
  {
   "cell_type": "code",
   "execution_count": 46,
   "metadata": {},
   "outputs": [],
   "source": [
    "description = [embedding.create_embedding(data['description']) for data in metadata]"
   ]
  },
  {
   "cell_type": "code",
   "execution_count": 48,
   "metadata": {},
   "outputs": [
    {
     "data": {
      "text/plain": [
       "13"
      ]
     },
     "execution_count": 48,
     "metadata": {},
     "output_type": "execute_result"
    }
   ],
   "source": [
    "len(description)"
   ]
  },
  {
   "cell_type": "code",
   "execution_count": 51,
   "metadata": {},
   "outputs": [
    {
     "data": {
      "text/plain": [
       "13"
      ]
     },
     "execution_count": 51,
     "metadata": {},
     "output_type": "execute_result"
    }
   ],
   "source": [
    "len(function_name)"
   ]
  },
  {
   "cell_type": "code",
   "execution_count": 52,
   "metadata": {},
   "outputs": [
    {
     "data": {
      "text/plain": [
       "(insert count: 13, delete count: 0, upsert count: 0, timestamp: 456984264580005890, success count: 13, err count: 0"
      ]
     },
     "execution_count": 52,
     "metadata": {},
     "output_type": "execute_result"
    }
   ],
   "source": [
    "collection.insert(data=[module, function_name, description, source_code])"
   ]
  },
  {
   "cell_type": "code",
   "execution_count": 55,
   "metadata": {},
   "outputs": [],
   "source": [
    "collection.load()"
   ]
  },
  {
   "cell_type": "code",
   "execution_count": 15,
   "metadata": {},
   "outputs": [
    {
     "data": {
      "text/plain": [
       "array([ 0.12094295, -0.97203547, -0.66849756, ...,  0.91345763,\n",
       "       -1.3141116 , -0.02443987], shape=(1024,), dtype=float32)"
      ]
     },
     "execution_count": 15,
     "metadata": {},
     "output_type": "execute_result"
    }
   ],
   "source": [
    "embedding.create_embedding(\"What is there?\")"
   ]
  },
  {
   "cell_type": "code",
   "execution_count": 13,
   "metadata": {},
   "outputs": [],
   "source": [
    "def search_milvus(query, collection, limit=1):\n",
    "    query_embedding = embedding.create_embedding(query)\n",
    "\n",
    "    search_params = {\n",
    "    \"index_type\": \"HNSW\",\n",
    "    \"metric_type\": \"L2\",\n",
    "    \"params\": {\n",
    "        \"M\": 20,\n",
    "        \"efConstruction\": 300\n",
    "    }\n",
    "    }\n",
    "\n",
    "    results = collection.search(\n",
    "        data = [query_embedding],\n",
    "        anns_field = \"Metadata\",\n",
    "        param = search_params,\n",
    "        limit = limit,\n",
    "        output_fields = [\"Module\", \"Function_Name\", \"Source_Code\"]\n",
    "    )\n",
    "\n",
    "    return results"
   ]
  },
  {
   "cell_type": "code",
   "execution_count": 14,
   "metadata": {},
   "outputs": [],
   "source": [
    "results = search_milvus(\"Open File explorer\", collection)"
   ]
  },
  {
   "cell_type": "code",
   "execution_count": 15,
   "metadata": {},
   "outputs": [
    {
     "data": {
      "text/plain": [
       "data: ['[\\'id: 456977561872627163, distance: 194.1004638671875, entity: {\\\\\\'Module\\\\\\': \\\\\\'application_functions\\\\\\', \\\\\\'Function_Name\\\\\\': \\\\\\'open_file_explorer\\\\\\', \\\\\\'Source_Code\\\\\\': \\\\\\'def open_file_explorer():\\\\\\\\n    \"\"\"\\\\\\\\n    Opens the file explorer/finder.\\\\\\\\n    \\\\\\\\n    Usage: Open file explorer, Launch finder, Open file manager\\\\\\\\n    \"\"\"\\\\\\\\n    if os.name == \\\\\\\\\\\\\\'nt\\\\\\\\\\\\\\':  # Windows\\\\\\\\n        os.system(\"explorer\")\\\\\\\\n    elif os.name == \\\\\\\\\\\\\\'posix\\\\\\\\\\\\\\':  # macOS or Linux\\\\\\\\n        if os.uname().sysname == \\\\\\\\\\\\\\'Darwin\\\\\\\\\\\\\\':  # macOS\\\\\\\\n            os.system(\"open .\")\\\\\\\\n        else:  # Linux\\\\\\\\n            os.system(\"xdg-open .\")\\\\\\\\n\\\\\\'}\\']']"
      ]
     },
     "execution_count": 15,
     "metadata": {},
     "output_type": "execute_result"
    }
   ],
   "source": [
    "results"
   ]
  },
  {
   "cell_type": "code",
   "execution_count": 19,
   "metadata": {},
   "outputs": [
    {
     "name": "stdout",
     "output_type": "stream",
     "text": [
      "id: 456977561872627164, distance: 304.92315673828125, entity: {'Module': 'application_functions', 'Function_Name': 'open_firefox', 'Source_Code': 'def open_firefox():\\n    \"\"\"\\n    Opens Firefox browser.\\n    \\n    Usage: Launch Firefox, Open Firefox browser, Start Firefox\\n    \"\"\"\\n    webbrowser.open(\"https://www.mozilla.org\")\\n'}\n"
     ]
    }
   ],
   "source": [
    "for result in results[0]:\n",
    "    print(result)"
   ]
  },
  {
   "cell_type": "code",
   "execution_count": 16,
   "metadata": {},
   "outputs": [],
   "source": [
    "def filter_results(results):\n",
    "    data = {}\n",
    "\n",
    "    module = []\n",
    "    name = []\n",
    "    code = []\n",
    "    \n",
    "    for result in results[0]:\n",
    "        name.append(result.entity.get(\"Function_Name\"))\n",
    "        module.append(result.entity.get(\"Module\"))\n",
    "        code.append(result.entity.get(\"Source_Code\"))\n",
    "\n",
    "    data[\"Module\"] = module\n",
    "    data[\"Function Name\"] = name\n",
    "    data[\"Source Code\"] = code\n",
    "\n",
    "    return data"
   ]
  },
  {
   "cell_type": "code",
   "execution_count": 17,
   "metadata": {},
   "outputs": [],
   "source": [
    "output = filter_results(results)"
   ]
  },
  {
   "cell_type": "code",
   "execution_count": 18,
   "metadata": {},
   "outputs": [
    {
     "data": {
      "text/plain": [
       "{'Module': ['application_functions'],\n",
       " 'Function Name': ['open_file_explorer'],\n",
       " 'Source Code': ['def open_file_explorer():\\n    \"\"\"\\n    Opens the file explorer/finder.\\n    \\n    Usage: Open file explorer, Launch finder, Open file manager\\n    \"\"\"\\n    if os.name == \\'nt\\':  # Windows\\n        os.system(\"explorer\")\\n    elif os.name == \\'posix\\':  # macOS or Linux\\n        if os.uname().sysname == \\'Darwin\\':  # macOS\\n            os.system(\"open .\")\\n        else:  # Linux\\n            os.system(\"xdg-open .\")\\n']}"
      ]
     },
     "execution_count": 18,
     "metadata": {},
     "output_type": "execute_result"
    }
   ],
   "source": [
    "output"
   ]
  },
  {
   "cell_type": "code",
   "execution_count": 41,
   "metadata": {},
   "outputs": [
    {
     "data": {
      "text/plain": [
       "'def open_firefox():\\n    \"\"\"\\n    Opens Firefox browser.\\n    \\n    Usage: Launch Firefox, Open Firefox browser, Start Firefox\\n    \"\"\"\\n    webbrowser.open(\"https://www.mozilla.org\")\\n'"
      ]
     },
     "execution_count": 41,
     "metadata": {},
     "output_type": "execute_result"
    }
   ],
   "source": [
    "output.get('Source Code')[0]"
   ]
  },
  {
   "cell_type": "code",
   "execution_count": 23,
   "metadata": {},
   "outputs": [],
   "source": [
    "from dotenv import load_dotenv"
   ]
  },
  {
   "cell_type": "code",
   "execution_count": 24,
   "metadata": {},
   "outputs": [
    {
     "data": {
      "text/plain": [
       "True"
      ]
     },
     "execution_count": 24,
     "metadata": {},
     "output_type": "execute_result"
    }
   ],
   "source": [
    "load_dotenv()"
   ]
  },
  {
   "cell_type": "code",
   "execution_count": 19,
   "metadata": {},
   "outputs": [],
   "source": [
    "from langchain_core.prompts import PromptTemplate\n",
    "from langchain_openai import ChatOpenAI"
   ]
  },
  {
   "cell_type": "code",
   "execution_count": 20,
   "metadata": {},
   "outputs": [],
   "source": [
    "llm = ChatOpenAI(\n",
    "    base_url=\"https://openrouter.ai/api/v1\",\n",
    "    api_key=\"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\",\n",
    "    model=\"qwen/qwen-2.5-coder-32b-instruct:free\"\n",
    ")"
   ]
  },
  {
   "cell_type": "code",
   "execution_count": 21,
   "metadata": {},
   "outputs": [
    {
     "name": "stdout",
     "output_type": "stream",
     "text": [
      "The capital of India is New Delhi.\n"
     ]
    }
   ],
   "source": [
    "result = llm.invoke(\"What is the capital of India?\")\n",
    "print(result.content)"
   ]
  },
  {
   "cell_type": "code",
   "execution_count": 22,
   "metadata": {},
   "outputs": [],
   "source": [
    "template = \"\"\" Generate a structured Python script with the following constraints:\n",
    "Function Details:\n",
    "- Module Name: {Module}\n",
    "- Function Name: {Function Name}\n",
    "\n",
    "### **Code Requirements**\n",
    "1. Import the function from the specified module {Module}.\n",
    "2. Use a `main()` function to execute the function.\n",
    "3. Implement error handling with `try-except`.\n",
    "4. Print a success message if execution is successful.\n",
    "5. Ensure the script is executable as a standalone module.\n",
    "6. No additional text, explanations, or markdown formatting (dont use --> ```python `, etc.).\n",
    "\n",
    "Now, generate only the clean Python script:\n",
    "\"\"\""
   ]
  },
  {
   "cell_type": "code",
   "execution_count": 23,
   "metadata": {},
   "outputs": [],
   "source": [
    "template = PromptTemplate(template = template, input_variables = ['Module', 'Function Name'])"
   ]
  },
  {
   "cell_type": "code",
   "execution_count": 24,
   "metadata": {},
   "outputs": [],
   "source": [
    "prompt = template.invoke({\n",
    "    \"Module\" : output.get('Module')[0],\n",
    "    'Function Name' : output.get('Function Name')[0]\n",
    "})"
   ]
  },
  {
   "cell_type": "code",
   "execution_count": 25,
   "metadata": {},
   "outputs": [],
   "source": [
    "clean_code = llm.invoke(prompt)"
   ]
  },
  {
   "cell_type": "code",
   "execution_count": 26,
   "metadata": {},
   "outputs": [
    {
     "name": "stdout",
     "output_type": "stream",
     "text": [
      "from application_functions import open_file_explorer\n",
      "\n",
      "def main():\n",
      "    try:\n",
      "        open_file_explorer()\n",
      "        print(\"File explorer opened successfully.\")\n",
      "    except Exception as e:\n",
      "        print(f\"An error occurred: {e}\")\n",
      "\n",
      "if __name__ == \"__main__\":\n",
      "    main()\n"
     ]
    }
   ],
   "source": [
    "print(clean_code.content)"
   ]
  },
  {
   "cell_type": "code",
   "execution_count": 28,
   "metadata": {},
   "outputs": [],
   "source": [
    "from fastapi import FastAPI, HTTPException\n",
    "from pydantic import BaseModel\n",
    "from pymilvus import Collection, connections\n",
    "#from utility_functions import get_current_time  # Example function import\n",
    "#from langchain_huggingface import ChatHuggingFace, HuggingFaceEndpoint\n",
    "from langchain_core.prompts import PromptTemplate\n",
    "import os\n",
    "\n",
    "# Initialize FastAPI app\n",
    "app = FastAPI()\n",
    "\n",
    "# Connect to Milvus\n",
    "conn = connections.connect(\"default\", host=\"localhost\", port=\"19530\")\n",
    "db.using_database(db_name=\"metadb\")\n",
    "collection = Collection(name='functions')\n",
    "collection.load()\n",
    "\n",
    "# OPENAi LLM setup\n",
    "#api_token = os.getenv(\"OPENAI_API_KEY\")\n",
    "\n",
    "model = ChatOpenAI(\n",
    "    base_url=\"https://openrouter.ai/api/v1\",\n",
    "    api_key= \"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\",\n",
    "    model=\"qwen/qwen-2.5-coder-32b-instruct:free\"\n",
    ")\n",
    "\n",
    "# Request schema\n",
    "class ExecuteRequest(BaseModel):\n",
    "    prompt: str\n",
    "\n",
    "# def search_milvus(query, collection, limit=1):\n",
    "#     \"\"\"Search for a function in Milvus based on user prompt\"\"\"\n",
    "#     from sentence_transformers import SentenceTransformer\n",
    "\n",
    "#     embedding_model = SentenceTransformer(\"Alibaba-NLP/gte-large-en-v1.5\", trust_remote_code=True)\n",
    "#     query_embedding = embedding_model.encode(query)\n",
    "\n",
    "#     search_params = {\n",
    "#         \"index_type\": \"HNSW\", \n",
    "#         \"metric_type\": \"L2\", \n",
    "#         \"params\": {\n",
    "#             \"M\": 20, \n",
    "#             \"efConstruction\": 300}\n",
    "#     }\n",
    "\n",
    "#     results = collection.search(\n",
    "#         data=[query_embedding], anns_field=\"Metadata\", param=search_params, limit=limit,\n",
    "#         output_fields=[\"Module\", \"Function_Name\"]\n",
    "#     )\n",
    "\n",
    "#     if not results or len(results[0]) == 0:\n",
    "#         return None\n",
    "\n",
    "#     best_match = results[0][0].entity\n",
    "#     return {\n",
    "#         \"module\": best_match.get(\"Module\"),\n",
    "#         \"function_name\": best_match.get(\"Function_Name\"),\n",
    "#     }\n",
    "\n",
    "def search_milvus(query, collection, limit=1):\n",
    "    query_embedding = embedding.create_embedding(query)\n",
    "\n",
    "    search_params = {\n",
    "    \"index_type\": \"HNSW\",\n",
    "    \"metric_type\": \"L2\",\n",
    "    \"params\": {\n",
    "        \"M\": 20,\n",
    "        \"efConstruction\": 300\n",
    "    }\n",
    "    }\n",
    "\n",
    "    results = collection.search(\n",
    "        data = [query_embedding],\n",
    "        anns_field = \"Metadata\",\n",
    "        param = search_params,\n",
    "        limit = limit,\n",
    "        output_fields = [\"Module\", \"Function_Name\", \"Source_Code\"]\n",
    "    )\n",
    "\n",
    "    return results\n",
    "\n",
    "def filter_results(results):\n",
    "    data = {}\n",
    "\n",
    "    module = []\n",
    "    name = []\n",
    "    code = []\n",
    "    \n",
    "    for result in results[0]:\n",
    "        name.append(result.entity.get(\"Function_Name\"))\n",
    "        module.append(result.entity.get(\"Module\"))\n",
    "        code.append(result.entity.get(\"Source_Code\"))\n",
    "\n",
    "    data[\"Module\"] = module\n",
    "    data[\"Function Name\"] = name\n",
    "\n",
    "    return data\n",
    "\n",
    "def generate_code(output):\n",
    "    \"\"\"Generate Python script for the retrieved function\"\"\"\n",
    "    \n",
    "    template = \"\"\" Generate a structured Python script with the following constraints:\n",
    "    Function Details:\n",
    "    - Module Name: {Module}\n",
    "    - Function Name: {Function Name}\n",
    "    \n",
    "    ### **Code Requirements**\n",
    "    1. Import the function from the specified module {Module}.\n",
    "    2. Use a `main()` function to execute the function.\n",
    "    3. Implement error handling with `try-except`.\n",
    "    4. Print a success message if execution is successful.\n",
    "    5. Ensure the script is executable as a standalone module.\n",
    "    6. No additional text, explanations, or markdown formatting (dont use --> ```python `, etc.).\n",
    "    \n",
    "    Now, generate only the clean Python script:\n",
    "    \"\"\"\n",
    "    \n",
    "    template = PromptTemplate(template = template, input_variables = ['Module', 'Function Name'])\n",
    "\n",
    "    prompt = template.invoke({\n",
    "    \"Module\" : output.get('Module')[0],\n",
    "    'Function Name' : output.get('Function Name')[0]\n",
    "    })\n",
    "    \n",
    "    return output.get('Function Name')[0], model.invoke(prompt)\n",
    "\n",
    "@app.post(\"/execute\")\n",
    "def execute_function(request: ExecuteRequest):\n",
    "    \"\"\"API endpoint to retrieve function based on user prompt\"\"\"\n",
    "    result = search_milvus(request.prompt, collection)\n",
    "    filter_data = filter_results(result) \n",
    "    \n",
    "    if not result:\n",
    "        raise HTTPException(status_code=404, detail=\"No matching function found\")\n",
    "\n",
    "    func_name, generated_code = generate_code(filter_data)\n",
    "\n",
    "    return {\"function\": func_name, \"code\": generated_code.content}"
   ]
  },
  {
   "cell_type": "code",
   "execution_count": 29,
   "metadata": {},
   "outputs": [],
   "source": [
    "import nest_asyncio\n",
    "import uvicorn\n",
    "from fastapi import FastAPI\n",
    "\n",
    "# Allow Jupyter Notebook to run async loops\n",
    "nest_asyncio.apply()"
   ]
  },
  {
   "cell_type": "code",
   "execution_count": 30,
   "metadata": {},
   "outputs": [
    {
     "name": "stderr",
     "output_type": "stream",
     "text": [
      "INFO:     Started server process [25564]\n",
      "INFO:     Waiting for application startup.\n",
      "INFO:     Application startup complete.\n",
      "INFO:     Uvicorn running on http://127.0.0.1:8000 (Press CTRL+C to quit)\n"
     ]
    },
    {
     "name": "stdout",
     "output_type": "stream",
     "text": [
      "INFO:     127.0.0.1:57340 - \"POST /execute HTTP/1.1\" 200 OK\n"
     ]
    },
    {
     "name": "stderr",
     "output_type": "stream",
     "text": [
      "INFO:     Shutting down\n",
      "INFO:     Waiting for application shutdown.\n",
      "INFO:     Application shutdown complete.\n",
      "INFO:     Finished server process [25564]\n"
     ]
    }
   ],
   "source": [
    "# Run FastAPI inside Jupyter\n",
    "uvicorn.run(app, host=\"127.0.0.1\", port=8000)"
   ]
  },
  {
   "cell_type": "code",
   "execution_count": null,
   "metadata": {},
   "outputs": [],
   "source": []
  }
 ],
 "metadata": {
  "kernelspec": {
   "display_name": "Python 3 (ipykernel)",
   "language": "python",
   "name": "python3"
  },
  "language_info": {
   "codemirror_mode": {
    "name": "ipython",
    "version": 3
   },
   "file_extension": ".py",
   "mimetype": "text/x-python",
   "name": "python",
   "nbconvert_exporter": "python",
   "pygments_lexer": "ipython3",
   "version": "3.12.7"
  }
 },
 "nbformat": 4,
 "nbformat_minor": 4
}
